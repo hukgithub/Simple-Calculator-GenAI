{
  "nbformat": 4,
  "nbformat_minor": 0,
  "metadata": {
    "colab": {
      "provenance": [],
      "authorship_tag": "ABX9TyPQA5A54ejJHVfd1EqhajMH",
      "include_colab_link": true
    },
    "kernelspec": {
      "name": "python3",
      "display_name": "Python 3"
    },
    "language_info": {
      "name": "python"
    }
  },
  "cells": [
    {
      "cell_type": "markdown",
      "metadata": {
        "id": "view-in-github",
        "colab_type": "text"
      },
      "source": [
        "<a href=\"https://colab.research.google.com/github/hukgithub/Simple-Calculator-GenAI/blob/main/simple_cal_genai.ipynb\" target=\"_parent\"><img src=\"https://colab.research.google.com/assets/colab-badge.svg\" alt=\"Open In Colab\"/></a>"
      ]
    },
    {
      "cell_type": "code",
      "source": [
        "pip install streamlit"
      ],
      "metadata": {
        "id": "3ChzJDSgrUMg"
      },
      "execution_count": null,
      "outputs": []
    },
    {
      "cell_type": "code",
      "source": [
        "import streamlit as st\n",
        "import math\n",
        "\n",
        "# Define the basic calculator functions\n",
        "def add(x, y):\n",
        "    return x + y\n",
        "\n",
        "def subtract(x, y):\n",
        "    return x - y\n",
        "\n",
        "def multiply(x, y):\n",
        "    return x * y\n",
        "\n",
        "def divide(x, y):\n",
        "    if y == 0:\n",
        "        return \"Error! Division by zero.\"\n",
        "    else:\n",
        "        return x / y\n",
        "\n",
        "def exponent(x, y):\n",
        "    return x ** y\n",
        "\n",
        "def square_root(x):\n",
        "    return math.sqrt(x)\n",
        "\n",
        "def log(x):\n",
        "    if x <= 0:\n",
        "        return \"Error! Logarithm undefined for non-positive values.\"\n",
        "    else:\n",
        "        return math.log(x)\n",
        "\n",
        "def sin(x):\n",
        "    return math.sin(math.radians(x))\n",
        "\n",
        "def cos(x):\n",
        "    return math.cos(math.radians(x))\n",
        "\n",
        "def tan(x):\n",
        "    return math.tan(math.radians(x))\n",
        "\n",
        "# Streamlit App\n",
        "st.title(\"Scientific Calculator\")\n",
        "\n",
        "operation = st.selectbox(\"Choose operation:\",\n",
        "                         [\"Add\", \"Subtract\", \"Multiply\", \"Divide\",\n",
        "                          \"Exponent\", \"Square Root\", \"Logarithm\",\n",
        "                          \"Sine\", \"Cosine\", \"Tangent\"])\n",
        "\n",
        "# Operations with two inputs\n",
        "if operation in [\"Add\", \"Subtract\", \"Multiply\", \"Divide\", \"Exponent\"]:\n",
        "    num1 = st.number_input(\"Enter first number\", value=0.0)\n",
        "    num2 = st.number_input(\"Enter second number\", value=0.0)\n",
        "\n",
        "    if st.button(\"Calculate\"):\n",
        "        if operation == \"Add\":\n",
        "            result = add(num1, num2)\n",
        "        elif operation == \"Subtract\":\n",
        "            result = subtract(num1, num2)\n",
        "        elif operation == \"Multiply\":\n",
        "            result = multiply(num1, num2)\n",
        "        elif operation == \"Divide\":\n",
        "            result = divide(num1, num2)\n",
        "        elif operation == \"Exponent\":\n",
        "            result = exponent(num1, num2)\n",
        "\n",
        "        st.write(f\"Result: {result}\")\n",
        "\n",
        "# Square root, logarithm, and trigonometric functions with one input\n",
        "elif operation in [\"Square Root\", \"Logarithm\", \"Sine\", \"Cosine\", \"Tangent\"]:\n",
        "    num = st.number_input(\"Enter the number/angle\", value=0.0)\n",
        "\n",
        "    if st.button(\"Calculate\"):\n",
        "        if operation == \"Square Root\":\n",
        "            result = square_root(num)\n",
        "        elif operation == \"Logarithm\":\n",
        "            result = log(num)\n",
        "        elif operation == \"Sine\":\n",
        "            result = sin(num)\n",
        "        elif operation == \"Cosine\":\n",
        "            result = cos(num)\n",
        "        elif operation == \"Tangent\":\n",
        "            result = tan(num)\n",
        "\n",
        "        st.write(f\"Result: {result}\")\n"
      ],
      "metadata": {
        "id": "-nMpNkv6rhvH"
      },
      "execution_count": null,
      "outputs": []
    }
  ]
}